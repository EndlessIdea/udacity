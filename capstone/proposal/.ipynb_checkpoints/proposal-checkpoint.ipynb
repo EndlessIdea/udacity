{
 "cells": [
  {
   "cell_type": "markdown",
   "metadata": {},
   "source": [
    "# 机器学习工程师纳米学位"
   ]
  },
  {
   "cell_type": "markdown",
   "metadata": {},
   "source": [
    "## 文档分类"
   ]
  },
  {
   "cell_type": "markdown",
   "metadata": {},
   "source": [
    "关力宁<br>\n",
    "2018.05.10"
   ]
  },
  {
   "cell_type": "markdown",
   "metadata": {},
   "source": [
    "## 开题报告"
   ]
  },
  {
   "cell_type": "markdown",
   "metadata": {},
   "source": [
    "### 项目背景"
   ]
  },
  {
   "cell_type": "markdown",
   "metadata": {},
   "source": [
    "自然语言处理（NLP）是机器学习技术重要应用范畴之一，而文档分类应该是自然语言处理中最普遍的一个应用，例如文章自动分类、邮件自动分类、垃圾邮件识别、用户情感分类等等，因此一个好的文档分类程序有非常大的应用意义。想要开发一个号的文档分类程序，主要需要解决两个问题，即文档特征提取和分类算法模型。文档特征提取方法目前有基于统计学的ngram模型、基于词向量的词袋子模型、Word2Vec等模型，而分类模型可以应用传统监督学习中常用的分类算法，如决策树、支持向量机等，近年来基于深度学习神经网络的算法来进行文档分类预测的效果更好，如CNN。<br>\n",
    "自己选择这个项目的主要原因是自己曾经参与过一个新闻推送系统，系统中就有对新闻进行分类的模块，当时是由大数据和算法部门的同事负责的，自己那时对这个分类的原理就很好奇，现在终于自己有机会用学到的知识也实现一个文档分类程序了。"
   ]
  },
  {
   "cell_type": "markdown",
   "metadata": {},
   "source": [
    "### 问题陈述"
   ]
  },
  {
   "cell_type": "markdown",
   "metadata": {},
   "source": [
    "本项目要解决的问题是如何设计一个好的文档分类程序，即针对输入的文档，程序可以预测出该文档的分类标签，并且预测的准确率要较高，该程序是可以对属于预规定分类范围内的文档重复使用的。此问题是可以通过选择合适的文档特征提取模型以及分类器模型来解决的。"
   ]
  },
  {
   "cell_type": "markdown",
   "metadata": {},
   "source": [
    "### 数据集和输入"
   ]
  },
  {
   "cell_type": "markdown",
   "metadata": {},
   "source": [
    "本项目将使用经典的20类新闻包作为数据集，这个新闻包里面大约有18846条新闻，比较均衡地分成了20类，是比较常用的文本数据之一，数据集可通过sklearn工具包下载，并且sklearn中的工具包已经切分好了训练集和测试集。经观察，该数据集文档中包含一些能明显确定分类的数据，如alt.atheism分类的49960文档，第二行Subject中包含了分类信息Alt.Atheism，因此我需要移除文档中这种对分类导向性过强的数据，以及文档中一些对分类预测没有相关性的头尾部内容。除此，还要清洗文档内容，如单词统一为小写、去除标点符号、去除停用词等。<br><br>\n",
    "这个数据集已经划分好了60%作为训练集，40%作为测试集，因此我将用这60%对模型进行训练，用40%测试集测试模型。"
   ]
  },
  {
   "cell_type": "markdown",
   "metadata": {},
   "source": [
    "### 解决方法"
   ]
  },
  {
   "cell_type": "markdown",
   "metadata": {},
   "source": [
    "第一步，我将对每篇文档内容做预处理；第二步，我将分别使用词袋子模型和Word2Vec模型来构建文档的表示方式；第三步，我将分别使用训练集数据训练决策树、朴素贝叶斯、支持向量机、神经网络CNN四种模型，并用测试集测试训练效果；最后，我会依据准确率及训练时间做出我最后的结论。"
   ]
  },
  {
   "cell_type": "markdown",
   "metadata": {},
   "source": [
    "### 基准模型"
   ]
  },
  {
   "cell_type": "markdown",
   "metadata": {},
   "source": [
    "我将以词袋子模型构建文档的表示、以决策树模型作为分类模型的组合作为基准模型。因为词袋子模型相较于词向量模型，易于理解和实现；决策树模型也有易于理解和实现的优点，并且训练速度快，是监督学习中进行分类预测的常用方法。"
   ]
  },
  {
   "cell_type": "markdown",
   "metadata": {},
   "source": [
    "### 评价标准"
   ]
  },
  {
   "cell_type": "markdown",
   "metadata": {},
   "source": [
    "我将以模型分类预测的准确率作为主要评价标准（原因参见参考文献5），准确率的定义是对于给定的测试数据集，分类器正确分类的样本数与总样本数之比，此项目的准确率算法就是分类器正确分类的文档数与总样本数之比。如果准确率得分相近，将参考训练时间作出综合评价。"
   ]
  },
  {
   "cell_type": "markdown",
   "metadata": {},
   "source": [
    "### 项目设计"
   ]
  },
  {
   "cell_type": "markdown",
   "metadata": {},
   "source": [
    "1. 获取数据。通过在网站直接下载的方式获取数据集（网站地址在参考资料3）\n",
    "2. 清洗数据。我会用numpy、sklearn等工具包统一文档单词为小写形式、统一单词为单数形式、去掉标点符号、去掉停用词、去掉特殊符号，以此来提高数据质量。\n",
    "3. 特征提取。我会分别采用词袋子模型和词向量模型(Word2Vec)构建文档的特征表示。\n",
    "4. 模型训练。我会用经词袋子模型处理的训练集对决策树、朴素贝叶斯、支持向量机进行训练，经Word2Vec处理的训练集对深度学习CNN模型进行训练，并用测试集分别进行测试。\n",
    "5. 模型评估。最后根据准确率以及训练时间评估基准模型和其他三种模型，得出最优的文档分类程序。\n",
    "6. 表达方式。为了更好的表达我的研究报告，我将会在各个步骤进行图形或表格的可视化处理。"
   ]
  },
  {
   "cell_type": "markdown",
   "metadata": {},
   "source": [
    "### 参考资料"
   ]
  },
  {
   "cell_type": "markdown",
   "metadata": {},
   "source": [
    "[1]https://blog.csdn.net/ahmanz/article/details/51273500<br>\n",
    "[2]http://www.cnblogs.com/platero/archive/2012/12/03/2800251.html<br>\n",
    "[3]http://www.qwone.com/~jason/20Newsgroups/<br>\n",
    "[4]https://www.cnblogs.com/sddai/p/5696870.html<br>\n",
    "[5]http://www.docin.com/p-1448732393.html<br>\n",
    "[6]https://zhuanlan.zhihu.com/p/33925599<br>\n",
    "[7]https://blog.csdn.net/Scotfield_msn/article/details/72904092<br>\n",
    "[8]https://download.csdn.net/download/qq_33394807/9934498"
   ]
  }
 ],
 "metadata": {
  "kernelspec": {
   "display_name": "Python 3",
   "language": "python",
   "name": "python3"
  },
  "language_info": {
   "codemirror_mode": {
    "name": "ipython",
    "version": 3
   },
   "file_extension": ".py",
   "mimetype": "text/x-python",
   "name": "python",
   "nbconvert_exporter": "python",
   "pygments_lexer": "ipython3",
   "version": "3.6.4"
  }
 },
 "nbformat": 4,
 "nbformat_minor": 2
}
